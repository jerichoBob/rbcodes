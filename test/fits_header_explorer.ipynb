{
 "cells": [
  {
   "cell_type": "code",
   "execution_count": 2,
   "metadata": {},
   "outputs": [],
   "source": [
    "from astropy.io import fits\n",
    "import matplotlib.pyplot as plt\n",
    "import numpy as np\n",
    "import os\n",
    "import json"
   ]
  },
  {
   "cell_type": "code",
   "execution_count": 5,
   "metadata": {},
   "outputs": [
    {
     "name": "stdout",
     "output_type": "stream",
     "text": [
      "<astropy.io.fits.hdu.image.PrimaryHDU object at 0x1179a1880>\n"
     ]
    }
   ],
   "source": [
    "# spectra_filename = \"/Users/robertseaton/School/github_repos/rbcodes/test/data/throwaway1.fits\"\n",
    "spectra_filename = \"data/f13.fit\"\n",
    "spectra = fits.open(spectra_filename)\n",
    "# fits.info(spectra_filename)\n",
    "for i in spectra:\n",
    "    print(i)"
   ]
  },
  {
   "cell_type": "code",
   "execution_count": 6,
   "metadata": {},
   "outputs": [
    {
     "ename": "IndexError",
     "evalue": "list index out of range",
     "output_type": "error",
     "traceback": [
      "\u001b[0;31m---------------------------------------------------------------------------\u001b[0m",
      "\u001b[0;31mIndexError\u001b[0m                                Traceback (most recent call last)",
      "Cell \u001b[0;32mIn[6], line 3\u001b[0m\n\u001b[1;32m      1\u001b[0m \u001b[39m# FLUX, ERROR, WAVE\u001b[39;00m\n\u001b[1;32m      2\u001b[0m fhdr, fdata \u001b[39m=\u001b[39m spectra[\u001b[39m0\u001b[39m]\u001b[39m.\u001b[39mheader, spectra[\u001b[39m0\u001b[39m]\u001b[39m.\u001b[39mdata\n\u001b[0;32m----> 3\u001b[0m ehdr, edata \u001b[39m=\u001b[39m spectra[\u001b[39m1\u001b[39;49m]\u001b[39m.\u001b[39mheader, spectra[\u001b[39m1\u001b[39m]\u001b[39m.\u001b[39mdata\n\u001b[1;32m      4\u001b[0m whdr, wdata \u001b[39m=\u001b[39m spectra[\u001b[39m2\u001b[39m]\u001b[39m.\u001b[39mheader, spectra[\u001b[39m2\u001b[39m]\u001b[39m.\u001b[39mdata\n\u001b[1;32m      6\u001b[0m \u001b[39mprint\u001b[39m(\u001b[39m\"\u001b[39m\u001b[39m-\u001b[39m\u001b[39m\"\u001b[39m\u001b[39m*\u001b[39m\u001b[39m80\u001b[39m)\n",
      "File \u001b[0;32m~/anaconda3/envs/rbstreamlit/lib/python3.9/site-packages/astropy/io/fits/hdu/hdulist.py:385\u001b[0m, in \u001b[0;36mHDUList.__getitem__\u001b[0;34m(self, key)\u001b[0m\n\u001b[1;32m    382\u001b[0m \u001b[39mexcept\u001b[39;00m \u001b[39mIndexError\u001b[39;00m \u001b[39mas\u001b[39;00m e:\n\u001b[1;32m    383\u001b[0m     \u001b[39m# Raise a more helpful IndexError if the file was not fully read.\u001b[39;00m\n\u001b[1;32m    384\u001b[0m     \u001b[39mif\u001b[39;00m \u001b[39mself\u001b[39m\u001b[39m.\u001b[39m_read_all:\n\u001b[0;32m--> 385\u001b[0m         \u001b[39mraise\u001b[39;00m e\n\u001b[1;32m    386\u001b[0m     \u001b[39melse\u001b[39;00m:\n\u001b[1;32m    387\u001b[0m         \u001b[39mraise\u001b[39;00m \u001b[39mIndexError\u001b[39;00m(\n\u001b[1;32m    388\u001b[0m             \u001b[39m\"\u001b[39m\u001b[39mHDU not found, possibly because the index \u001b[39m\u001b[39m\"\u001b[39m\n\u001b[1;32m    389\u001b[0m             \u001b[39m\"\u001b[39m\u001b[39mis out of range, or because the file was \u001b[39m\u001b[39m\"\u001b[39m\n\u001b[1;32m    390\u001b[0m             \u001b[39m\"\u001b[39m\u001b[39mclosed before all HDUs were read\u001b[39m\u001b[39m\"\u001b[39m\n\u001b[1;32m    391\u001b[0m         )\n",
      "File \u001b[0;32m~/anaconda3/envs/rbstreamlit/lib/python3.9/site-packages/astropy/io/fits/hdu/hdulist.py:379\u001b[0m, in \u001b[0;36mHDUList.__getitem__\u001b[0;34m(self, key)\u001b[0m\n\u001b[1;32m    375\u001b[0m \u001b[39m# Originally this used recursion, but hypothetically an HDU with\u001b[39;00m\n\u001b[1;32m    376\u001b[0m \u001b[39m# a very large number of HDUs could blow the stack, so use a loop\u001b[39;00m\n\u001b[1;32m    377\u001b[0m \u001b[39m# instead\u001b[39;00m\n\u001b[1;32m    378\u001b[0m \u001b[39mtry\u001b[39;00m:\n\u001b[0;32m--> 379\u001b[0m     \u001b[39mreturn\u001b[39;00m \u001b[39mself\u001b[39;49m\u001b[39m.\u001b[39;49m_try_while_unread_hdus(\n\u001b[1;32m    380\u001b[0m         \u001b[39msuper\u001b[39;49m()\u001b[39m.\u001b[39;49m\u001b[39m__getitem__\u001b[39;49m, \u001b[39mself\u001b[39;49m\u001b[39m.\u001b[39;49m_positive_index_of(key)\n\u001b[1;32m    381\u001b[0m     )\n\u001b[1;32m    382\u001b[0m \u001b[39mexcept\u001b[39;00m \u001b[39mIndexError\u001b[39;00m \u001b[39mas\u001b[39;00m e:\n\u001b[1;32m    383\u001b[0m     \u001b[39m# Raise a more helpful IndexError if the file was not fully read.\u001b[39;00m\n\u001b[1;32m    384\u001b[0m     \u001b[39mif\u001b[39;00m \u001b[39mself\u001b[39m\u001b[39m.\u001b[39m_read_all:\n",
      "File \u001b[0;32m~/anaconda3/envs/rbstreamlit/lib/python3.9/site-packages/astropy/io/fits/hdu/hdulist.py:1246\u001b[0m, in \u001b[0;36mHDUList._try_while_unread_hdus\u001b[0;34m(self, func, *args, **kwargs)\u001b[0m\n\u001b[1;32m   1244\u001b[0m \u001b[39mwhile\u001b[39;00m \u001b[39mTrue\u001b[39;00m:\n\u001b[1;32m   1245\u001b[0m     \u001b[39mtry\u001b[39;00m:\n\u001b[0;32m-> 1246\u001b[0m         \u001b[39mreturn\u001b[39;00m func(\u001b[39m*\u001b[39;49margs, \u001b[39m*\u001b[39;49m\u001b[39m*\u001b[39;49mkwargs)\n\u001b[1;32m   1247\u001b[0m     \u001b[39mexcept\u001b[39;00m \u001b[39mException\u001b[39;00m:\n\u001b[1;32m   1248\u001b[0m         \u001b[39mif\u001b[39;00m \u001b[39mself\u001b[39m\u001b[39m.\u001b[39m_read_next_hdu():\n",
      "\u001b[0;31mIndexError\u001b[0m: list index out of range"
     ]
    }
   ],
   "source": [
    "# FLUX, ERROR, WAVE\n",
    "fhdr, fdata = spectra[0].header, spectra[0].data\n",
    "ehdr, edata = spectra[1].header, spectra[1].data\n",
    "whdr, wdata = spectra[2].header, spectra[2].data\n",
    "\n",
    "print(\"-\"*80)\n",
    "print(\"flux header: \")\n",
    "for key in fhdr:\n",
    "    print(\"  \", key, \"::::\", fhdr[key])\n",
    "print(\"flux data len: \", len(fdata))\n",
    "print(\"flux data: \", fdata)\n",
    "print(\"-\"*80)\n",
    "print(\"error header: \")\n",
    "for key in ehdr:\n",
    "    print(\"  \", key, \"::::\", ehdr[key])\n",
    "print(\"error data len: \", len(edata))\n",
    "print(\"error data: \", edata)\n",
    "print(\"-\"*80)\n",
    "print(\"wave header: \")\n",
    "for key in whdr:\n",
    "    print(\"  \", key, \"::::\", whdr[key])\n",
    "print(\"wave data len: \", len(wdata))\n",
    "print(\"wave data: \", wdata)\n"
   ]
  },
  {
   "cell_type": "code",
   "execution_count": 7,
   "metadata": {},
   "outputs": [
    {
     "name": "stdout",
     "output_type": "stream",
     "text": [
      "fdata min: 22.95\n",
      "fdata max: 109.09\n"
     ]
    },
    {
     "ename": "NameError",
     "evalue": "name 'wdata' is not defined",
     "output_type": "error",
     "traceback": [
      "\u001b[0;31m---------------------------------------------------------------------------\u001b[0m",
      "\u001b[0;31mNameError\u001b[0m                                 Traceback (most recent call last)",
      "Cell \u001b[0;32mIn[7], line 7\u001b[0m\n\u001b[1;32m      4\u001b[0m \u001b[39mprint\u001b[39m(\u001b[39mf\u001b[39m\u001b[39m\"\u001b[39m\u001b[39mfdata min: \u001b[39m\u001b[39m{\u001b[39;00mfmin\u001b[39m}\u001b[39;00m\u001b[39m\"\u001b[39m)\n\u001b[1;32m      5\u001b[0m \u001b[39mprint\u001b[39m(\u001b[39mf\u001b[39m\u001b[39m\"\u001b[39m\u001b[39mfdata max: \u001b[39m\u001b[39m{\u001b[39;00mfmax\u001b[39m}\u001b[39;00m\u001b[39m\"\u001b[39m)\n\u001b[0;32m----> 7\u001b[0m wmin1 \u001b[39m=\u001b[39m np\u001b[39m.\u001b[39mmin(wdata)\n\u001b[1;32m      8\u001b[0m wmax1 \u001b[39m=\u001b[39m np\u001b[39m.\u001b[39mmax(wdata)\n\u001b[1;32m      9\u001b[0m \u001b[39mprint\u001b[39m(\u001b[39mf\u001b[39m\u001b[39m\"\u001b[39m\u001b[39mwdata1 min: \u001b[39m\u001b[39m{\u001b[39;00mwmin1\u001b[39m}\u001b[39;00m\u001b[39m\"\u001b[39m)\n",
      "\u001b[0;31mNameError\u001b[0m: name 'wdata' is not defined"
     ]
    }
   ],
   "source": [
    "fdata[fdata < 0] = 0\n",
    "fmin = np.min(fdata)\n",
    "fmax = np.max(fdata)\n",
    "print(f\"fdata min: {fmin}\")\n",
    "print(f\"fdata max: {fmax}\")\n",
    "\n",
    "wmin1 = np.min(wdata)\n",
    "wmax1 = np.max(wdata)\n",
    "print(f\"wdata1 min: {wmin1}\")\n",
    "print(f\"wdata1 max: {wmax1}\")\n",
    "\n",
    "ustr = fhdr[\"UNITS\"]\n",
    "print(f\"units: {ustr}\")\n",
    "print(\"units type: \", type(ustr))\n",
    "print(\"units length: \", len(ustr))\n",
    "udict = json.loads(ustr)\n",
    "wunits = udict[\"wave\"]\n",
    "funits = udict[\"flux\"]\n",
    "print(f\"wave units: {wunits}\")\n",
    "print(f\"flux units: {funits}\")\n",
    "wrange = wmax1 - wmin1\n",
    "frange = fmax - fmin\n",
    "\n",
    "wdata2 = []\n",
    "for w in wdata:\n",
    "    wdata2.append(w + 200)\n",
    "wmin2 = np.min(wdata2)\n",
    "wmax2 = np.max(wdata2)\n",
    "\n",
    "wmin = np.min([wmin1, wmin2])\n",
    "wmax = np.max([wmax1, wmax2])\n",
    "wrange = wmax - wmin\n",
    "\n"
   ]
  },
  {
   "cell_type": "code",
   "execution_count": 8,
   "metadata": {},
   "outputs": [
    {
     "ename": "NameError",
     "evalue": "name 'wdata' is not defined",
     "output_type": "error",
     "traceback": [
      "\u001b[0;31m---------------------------------------------------------------------------\u001b[0m",
      "\u001b[0;31mNameError\u001b[0m                                 Traceback (most recent call last)",
      "Cell \u001b[0;32mIn[8], line 2\u001b[0m\n\u001b[1;32m      1\u001b[0m f\u001b[39m=\u001b[39mplt\u001b[39m.\u001b[39mfigure(figsize\u001b[39m=\u001b[39m[\u001b[39m12\u001b[39m,\u001b[39m4\u001b[39m])\n\u001b[0;32m----> 2\u001b[0m plt\u001b[39m.\u001b[39mplot(wdata,fdata, color\u001b[39m=\u001b[39m\u001b[39m'\u001b[39m\u001b[39mblack\u001b[39m\u001b[39m'\u001b[39m, linewidth\u001b[39m=\u001b[39m\u001b[39m1.0\u001b[39m)\n\u001b[1;32m      3\u001b[0m plt\u001b[39m.\u001b[39mplot(wdata2,fdata, color\u001b[39m=\u001b[39m\u001b[39m'\u001b[39m\u001b[39mblue\u001b[39m\u001b[39m'\u001b[39m, linewidth\u001b[39m=\u001b[39m\u001b[39m1.0\u001b[39m)\n\u001b[1;32m      4\u001b[0m factor \u001b[39m=\u001b[39m \u001b[39m0.02\u001b[39m\n",
      "\u001b[0;31mNameError\u001b[0m: name 'wdata' is not defined"
     ]
    },
    {
     "data": {
      "text/plain": [
       "<Figure size 1200x400 with 0 Axes>"
      ]
     },
     "metadata": {},
     "output_type": "display_data"
    }
   ],
   "source": [
    "f=plt.figure(figsize=[12,4])\n",
    "plt.plot(wdata,fdata, color='black', linewidth=1.0)\n",
    "plt.plot(wdata2,fdata, color='blue', linewidth=1.0)\n",
    "factor = 0.02\n",
    "wfac = factor * wrange\n",
    "ffac = factor * frange\n",
    "plt.axis([wmin-wfac,wmax+wfac,fmin-ffac,fmax+ffac])\n",
    "\n",
    "plt.xlabel(f'Wavelength ({wunits})')\n",
    "plt.ylabel(f'Flux ({funits})')\n",
    "plt.show()"
   ]
  },
  {
   "cell_type": "code",
   "execution_count": null,
   "metadata": {},
   "outputs": [],
   "source": []
  }
 ],
 "metadata": {
  "kernelspec": {
   "display_name": "astroresearch",
   "language": "python",
   "name": "python3"
  },
  "language_info": {
   "codemirror_mode": {
    "name": "ipython",
    "version": 3
   },
   "file_extension": ".py",
   "mimetype": "text/x-python",
   "name": "python",
   "nbconvert_exporter": "python",
   "pygments_lexer": "ipython3",
   "version": "3.9.16"
  },
  "orig_nbformat": 4
 },
 "nbformat": 4,
 "nbformat_minor": 2
}
