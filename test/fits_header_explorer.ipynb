{
 "cells": [
  {
   "cell_type": "code",
   "execution_count": null,
   "metadata": {},
   "outputs": [],
   "source": [
    "from astropy.io import fits\n",
    "import matplotlib.pyplot as plt\n",
    "import numpy as np\n",
    "import os\n",
    "import json"
   ]
  },
  {
   "cell_type": "code",
   "execution_count": null,
   "metadata": {},
   "outputs": [],
   "source": [
    "# spectra_filename = \"/Users/robertseaton/School/github_repos/rbcodes/test/data/throwaway1.fits\"\n",
    "spectra_filename = \"data/f13.fit\"\n",
    "spectra = fits.open(spectra_filename)\n",
    "# fits.info(spectra_filename)\n",
    "for i in spectra:\n",
    "    print(i)"
   ]
  },
  {
   "cell_type": "code",
   "execution_count": null,
   "metadata": {},
   "outputs": [],
   "source": [
    "# FLUX, ERROR, WAVE\n",
    "fhdr, fdata = spectra[0].header, spectra[0].data\n",
    "ehdr, edata = spectra[1].header, spectra[1].data\n",
    "whdr, wdata = spectra[2].header, spectra[2].data\n",
    "\n",
    "print(\"-\"*80)\n",
    "print(\"flux header: \")\n",
    "for key in fhdr:\n",
    "    print(\"  \", key, \"::::\", fhdr[key])\n",
    "print(\"flux data len: \", len(fdata))\n",
    "print(\"flux data: \", fdata)\n",
    "print(\"-\"*80)\n",
    "print(\"error header: \")\n",
    "for key in ehdr:\n",
    "    print(\"  \", key, \"::::\", ehdr[key])\n",
    "print(\"error data len: \", len(edata))\n",
    "print(\"error data: \", edata)\n",
    "print(\"-\"*80)\n",
    "print(\"wave header: \")\n",
    "for key in whdr:\n",
    "    print(\"  \", key, \"::::\", whdr[key])\n",
    "print(\"wave data len: \", len(wdata))\n",
    "print(\"wave data: \", wdata)\n"
   ]
  },
  {
   "cell_type": "code",
   "execution_count": null,
   "metadata": {},
   "outputs": [],
   "source": [
    "fdata[fdata < 0] = 0\n",
    "fmin = np.min(fdata)\n",
    "fmax = np.max(fdata)\n",
    "print(f\"fdata min: {fmin}\")\n",
    "print(f\"fdata max: {fmax}\")\n",
    "\n",
    "wmin1 = np.min(wdata)\n",
    "wmax1 = np.max(wdata)\n",
    "print(f\"wdata1 min: {wmin1}\")\n",
    "print(f\"wdata1 max: {wmax1}\")\n",
    "\n",
    "ustr = fhdr[\"UNITS\"]\n",
    "print(f\"units: {ustr}\")\n",
    "print(\"units type: \", type(ustr))\n",
    "print(\"units length: \", len(ustr))\n",
    "udict = json.loads(ustr)\n",
    "wunits = udict[\"wave\"]\n",
    "funits = udict[\"flux\"]\n",
    "print(f\"wave units: {wunits}\")\n",
    "print(f\"flux units: {funits}\")\n",
    "wrange = wmax1 - wmin1\n",
    "frange = fmax - fmin\n",
    "\n",
    "wdata2 = []\n",
    "for w in wdata:\n",
    "    wdata2.append(w + 200)\n",
    "wmin2 = np.min(wdata2)\n",
    "wmax2 = np.max(wdata2)\n",
    "\n",
    "wmin = np.min([wmin1, wmin2])\n",
    "wmax = np.max([wmax1, wmax2])\n",
    "wrange = wmax - wmin\n",
    "\n"
   ]
  },
  {
   "cell_type": "code",
   "execution_count": null,
   "metadata": {},
   "outputs": [],
   "source": [
    "f=plt.figure(figsize=[12,4])\n",
    "plt.plot(wdata,fdata, color='black', linewidth=1.0)\n",
    "plt.plot(wdata2,fdata, color='blue', linewidth=1.0)\n",
    "factor = 0.02\n",
    "wfac = factor * wrange\n",
    "ffac = factor * frange\n",
    "plt.axis([wmin-wfac,wmax+wfac,fmin-ffac,fmax+ffac])\n",
    "\n",
    "plt.xlabel(f'Wavelength ({wunits})')\n",
    "plt.ylabel(f'Flux ({funits})')\n",
    "plt.show()"
   ]
  },
  {
   "cell_type": "code",
   "execution_count": null,
   "metadata": {},
   "outputs": [],
   "source": [
    "def read_sdss_spectra(filename):\n",
    "    hdu = fits.open(filename)\n",
    "    slices = hdu[1].header['NAXIS2']\n",
    "    flux = hdu[1].data['flux']\n",
    "    ivar = hdu[1].data['ivar']\n",
    "    wavemin = hdu[2].data['WAVEMIN'][0]\n",
    "    wavemax = hdu[2].data['WAVEMAX'][0]\n",
    "    diff = wavemax - wavemin\n",
    "    delta = diff / slices\n",
    "    wave = np.arange(start=wavemin, stop=wavemax, step=delta)\n",
    "    return wave, flux, ivar"
   ]
  },
  {
   "cell_type": "code",
   "execution_count": 57,
   "metadata": {},
   "outputs": [
    {
     "name": "stdout",
     "output_type": "stream",
     "text": [
      "3826\n",
      "- - - - - - - - - - - - - - - - - - - - \n",
      "flux\n",
      "[-2.5263395 10.893748   3.1730769  6.9086657  8.525897   5.6549587\n",
      "  4.6367817  5.369065   3.5968533  3.1243608  9.709411   4.415455\n",
      "  5.393901   2.9385307  2.8185852  6.0497866  7.2617173  4.0020576\n",
      "  2.7986987  7.9053464]\n",
      "delta: 1.4050743473928384\n",
      "- - - - - - - - - - - - - - - - - - - - \n",
      "wave limits.. min: 3805.397216796875, max: 9181.2119140625, diff: 5375.814453125, delta: 1.4050743473928384\n",
      "wave: [3805.3972168  3806.80229114 3808.20736549 3809.61243984 3811.01751419\n",
      " 3812.42258853 3813.82766288 3815.23273723 3816.63781158 3818.04288592\n",
      " 3819.44796027 3820.85303462 3822.25810897 3823.66318331 3825.06825766\n",
      " 3826.47333201 3827.87840636 3829.2834807  3830.68855505 3832.0936294 ] wave.shape: (3826,)\n"
     ]
    }
   ],
   "source": [
    "from astropy.io import fits\n",
    "import numpy as np\n",
    "\n",
    "spectra_filename = \"data/spec-0683-52524-0253.fits\"\n",
    "hdu = fits.open(spectra_filename)\n",
    "\n",
    "slices = hdu[1].header['NAXIS2']\n",
    "print(hdu[1].header['NAXIS2'])\n",
    "# print(hdu[1].name)\n",
    "# print(hdu[1].data.shape)\n",
    "\n",
    "flux = hdu[1].data['flux']\n",
    "ivar = hdu[1].data['ivar']\n",
    "print(\"- \"*20)\n",
    "print(\"flux\")\n",
    "print(flux[0:20])\n",
    "wavemin = hdu[2].data['WAVEMIN'][0]\n",
    "wavemax = hdu[2].data['WAVEMAX'][0]\n",
    "diff = wavemax - wavemin\n",
    "delta = diff / slices\n",
    "print(f\"delta: {delta}\")\n",
    "print(\"- \"*20)\n",
    "print(f\"wave limits.. min: {wavemin}, max: {wavemax}, diff: {wavemax-wavemin}, delta: {delta}\")\n",
    "wave = np.arange(start=wavemin, stop=wavemax, step=delta)\n",
    "print(f\"wave: {wave[0:20]} wave.shape: {wave.shape}\")\n"
   ]
  },
  {
   "cell_type": "code",
   "execution_count": null,
   "metadata": {},
   "outputs": [],
   "source": [
    "# from linetools.spectra import io as tio\n",
    "# from linetools.spectra.xspectrum1d import XSpectrum1D\n",
    "\n",
    "# spec= XSpectrum1D.from_tuple((self.wave, self.flux, self.error,self.cont), masking='none')\n",
    "# spec.write_to_fits(filename)"
   ]
  }
 ],
 "metadata": {
  "kernelspec": {
   "display_name": "astroresearch",
   "language": "python",
   "name": "python3"
  },
  "language_info": {
   "codemirror_mode": {
    "name": "ipython",
    "version": 3
   },
   "file_extension": ".py",
   "mimetype": "text/x-python",
   "name": "python",
   "nbconvert_exporter": "python",
   "pygments_lexer": "ipython3",
   "version": "3.9.16"
  },
  "orig_nbformat": 4
 },
 "nbformat": 4,
 "nbformat_minor": 2
}
