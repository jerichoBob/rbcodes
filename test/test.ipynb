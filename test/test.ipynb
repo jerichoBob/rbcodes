{
 "cells": [
  {
   "cell_type": "code",
   "execution_count": 1,
   "metadata": {},
   "outputs": [],
   "source": [
    "from astropy.io import fits"
   ]
  },
  {
   "cell_type": "code",
   "execution_count": 18,
   "metadata": {},
   "outputs": [
    {
     "name": "stdout",
     "output_type": "stream",
     "text": [
      "Filename: data/test.fits\n",
      "No.    Name      Ver    Type      Cards   Dimensions   Format\n",
      "  0  FLUX          1 PrimaryHDU      10   (19663,)   float32   \n",
      "  1  ERROR         1 ImageHDU         7   (19663,)   float32   \n",
      "  2  WAVELENGTH    1 ImageHDU         7   (19663,)   float64   \n",
      "  3  CONTINUUM     1 ImageHDU         7   (19663,)   float32   \n",
      "None\n",
      "spectra[<astropy.io.fits.hdu.image.PrimaryHDU object at 0x1194dcf40>]:  <astropy.io.fits.hdu.image.PrimaryHDU object at 0x1194dcf40>\n",
      "spectra[<astropy.io.fits.hdu.image.PrimaryHDU object at 0x1194dcf40>].header[SIMPLE]:  True\n",
      "spectra[<astropy.io.fits.hdu.image.PrimaryHDU object at 0x1194dcf40>].header[BITPIX]:  -32\n",
      "spectra[<astropy.io.fits.hdu.image.PrimaryHDU object at 0x1194dcf40>].header[NAXIS]:  1\n",
      "spectra[<astropy.io.fits.hdu.image.PrimaryHDU object at 0x1194dcf40>].header[NAXIS1]:  19663\n",
      "spectra[<astropy.io.fits.hdu.image.PrimaryHDU object at 0x1194dcf40>].header[EXTEND]:  True\n",
      "spectra[<astropy.io.fits.hdu.image.PrimaryHDU object at 0x1194dcf40>].header[EXTNAME]:  FLUX\n",
      "spectra[<astropy.io.fits.hdu.image.PrimaryHDU object at 0x1194dcf40>].header[METADATA]:  {\"headers\": [\"none\"], \"airvac\": \"vac\"}\n",
      "spectra[<astropy.io.fits.hdu.image.PrimaryHDU object at 0x1194dcf40>].header[NSPEC]:  1\n",
      "spectra[<astropy.io.fits.hdu.image.PrimaryHDU object at 0x1194dcf40>].header[NPIX]:  19663\n",
      "spectra[<astropy.io.fits.hdu.image.PrimaryHDU object at 0x1194dcf40>].header[UNITS]:  {\"wave\": \"Angstrom\", \"flux\": \"dimensionless_unit\"}\n",
      "spectra[<astropy.io.fits.hdu.image.ImageHDU object at 0x1194a7880>]:  <astropy.io.fits.hdu.image.ImageHDU object at 0x1194a7880>\n",
      "spectra[<astropy.io.fits.hdu.image.ImageHDU object at 0x1194a7880>].header[XTENSION]:  IMAGE\n",
      "spectra[<astropy.io.fits.hdu.image.ImageHDU object at 0x1194a7880>].header[BITPIX]:  -32\n",
      "spectra[<astropy.io.fits.hdu.image.ImageHDU object at 0x1194a7880>].header[NAXIS]:  1\n",
      "spectra[<astropy.io.fits.hdu.image.ImageHDU object at 0x1194a7880>].header[NAXIS1]:  19663\n",
      "spectra[<astropy.io.fits.hdu.image.ImageHDU object at 0x1194a7880>].header[PCOUNT]:  0\n",
      "spectra[<astropy.io.fits.hdu.image.ImageHDU object at 0x1194a7880>].header[GCOUNT]:  1\n",
      "spectra[<astropy.io.fits.hdu.image.ImageHDU object at 0x1194a7880>].header[EXTNAME]:  ERROR\n",
      "spectra[<astropy.io.fits.hdu.image.ImageHDU object at 0x119707490>]:  <astropy.io.fits.hdu.image.ImageHDU object at 0x119707490>\n",
      "spectra[<astropy.io.fits.hdu.image.ImageHDU object at 0x119707490>].header[XTENSION]:  IMAGE\n",
      "spectra[<astropy.io.fits.hdu.image.ImageHDU object at 0x119707490>].header[BITPIX]:  -64\n",
      "spectra[<astropy.io.fits.hdu.image.ImageHDU object at 0x119707490>].header[NAXIS]:  1\n",
      "spectra[<astropy.io.fits.hdu.image.ImageHDU object at 0x119707490>].header[NAXIS1]:  19663\n",
      "spectra[<astropy.io.fits.hdu.image.ImageHDU object at 0x119707490>].header[PCOUNT]:  0\n",
      "spectra[<astropy.io.fits.hdu.image.ImageHDU object at 0x119707490>].header[GCOUNT]:  1\n",
      "spectra[<astropy.io.fits.hdu.image.ImageHDU object at 0x119707490>].header[EXTNAME]:  WAVELENGTH\n",
      "spectra[<astropy.io.fits.hdu.image.ImageHDU object at 0x1194a95e0>]:  <astropy.io.fits.hdu.image.ImageHDU object at 0x1194a95e0>\n",
      "spectra[<astropy.io.fits.hdu.image.ImageHDU object at 0x1194a95e0>].header[XTENSION]:  IMAGE\n",
      "spectra[<astropy.io.fits.hdu.image.ImageHDU object at 0x1194a95e0>].header[BITPIX]:  -32\n",
      "spectra[<astropy.io.fits.hdu.image.ImageHDU object at 0x1194a95e0>].header[NAXIS]:  1\n",
      "spectra[<astropy.io.fits.hdu.image.ImageHDU object at 0x1194a95e0>].header[NAXIS1]:  19663\n",
      "spectra[<astropy.io.fits.hdu.image.ImageHDU object at 0x1194a95e0>].header[PCOUNT]:  0\n",
      "spectra[<astropy.io.fits.hdu.image.ImageHDU object at 0x1194a95e0>].header[GCOUNT]:  1\n",
      "spectra[<astropy.io.fits.hdu.image.ImageHDU object at 0x1194a95e0>].header[EXTNAME]:  CONTINUUM\n"
     ]
    }
   ],
   "source": [
    "spectra_1_filename = \"data/1d_test_spectra_1.fits\"\n",
    "spectra_filename = \"data/lris_796.fits\"\n",
    "mosfire_1769_filename = \"data/mosfire_1769.fits\"\n",
    "test_filename = \"data/test.fits\"\n",
    "\n",
    "spectra = fits.open(test_filename)\n",
    "print(spectra.info())\n",
    "for i in spectra:\n",
    "    print(f\"spectra[{i}]: \", spectra[i])\n",
    "    for j in spectra[i].header:\n",
    "        print(f\"spectra[{i}].header[{j}]: \", spectra[i].header[j])\n"
   ]
  },
  {
   "cell_type": "code",
   "execution_count": null,
   "metadata": {},
   "outputs": [],
   "source": []
  }
 ],
 "metadata": {
  "kernelspec": {
   "display_name": "rbstreamlit",
   "language": "python",
   "name": "python3"
  },
  "language_info": {
   "codemirror_mode": {
    "name": "ipython",
    "version": 3
   },
   "file_extension": ".py",
   "mimetype": "text/x-python",
   "name": "python",
   "nbconvert_exporter": "python",
   "pygments_lexer": "ipython3",
   "version": "3.9.16"
  },
  "orig_nbformat": 4
 },
 "nbformat": 4,
 "nbformat_minor": 2
}
