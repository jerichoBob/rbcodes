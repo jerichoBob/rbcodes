{
 "cells": [
  {
   "cell_type": "code",
   "execution_count": 1,
   "metadata": {},
   "outputs": [],
   "source": [
    "from astropy.io import fits"
   ]
  },
  {
   "cell_type": "code",
   "execution_count": null,
   "metadata": {},
   "outputs": [],
   "source": [
    "# just have this here as an example of modifying the header\n",
    "# however, I now know that if I need to shift the wavelength \n",
    "# array by a constant amount, I'll need to extract the wave, \n",
    "# shift the values and then write that back to the wave portion of the file.\n",
    "#\n",
    "def fix_kcwi_cube_pre_montage(infil):  #to make sure cdelt3 is populated\n",
    "    hdu = fits.open(infil)\n",
    "    flux = hdu['PRIMARY'].data\n",
    "    hdu_hdr = hdu['PRIMARY'].header\n",
    "    crval3 = hdu_hdr['CRVAL3']\n",
    "    crpix3 = hdu_hdr['CRPIX3']\n",
    "    cd3_3 = hdu_hdr['CD3_3']\n",
    "\n",
    "    #Make it so that there is no offset (shift zeropint and zero the offset)\n",
    "    hdu_hdr['NAXIS'] = 3\n",
    "    hdu_hdr['CRVAL3'] = crval3 - crpix3\n",
    "    hdu_hdr['CRPIX3'] = 0.0\n",
    "    hdu_hdr['CDELT3'] = cd3_3\n",
    "    \n",
    "\n",
    "    hdu_out = fits.PrimaryHDU(flux, header=hdu_hdr)\n",
    "    hdu_out.writeto(infil, overwrite=True)\n"
   ]
  }
 ],
 "metadata": {
  "kernelspec": {
   "display_name": "rbstreamlit",
   "language": "python",
   "name": "python3"
  },
  "language_info": {
   "codemirror_mode": {
    "name": "ipython",
    "version": 3
   },
   "file_extension": ".py",
   "mimetype": "text/x-python",
   "name": "python",
   "nbconvert_exporter": "python",
   "pygments_lexer": "ipython3",
   "version": "3.9.16"
  },
  "orig_nbformat": 4
 },
 "nbformat": 4,
 "nbformat_minor": 2
}
